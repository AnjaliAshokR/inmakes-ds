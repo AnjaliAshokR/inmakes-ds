{
 "cells": [
  {
   "cell_type": "code",
   "execution_count": 5,
   "id": "d52e13ef",
   "metadata": {},
   "outputs": [],
   "source": [
    "import cv2\n",
    "import numpy as np"
   ]
  },
  {
   "cell_type": "code",
   "execution_count": 6,
   "id": "e2071807",
   "metadata": {},
   "outputs": [
    {
     "name": "stdout",
     "output_type": "stream",
     "text": [
      "[[163 162 161 ... 170 154 130]\n",
      " [162 162 162 ... 173 155 126]\n",
      " [162 162 163 ... 170 155 128]\n",
      " ...\n",
      " [ 43  42  51 ... 103 101  99]\n",
      " [ 41  42  55 ... 103 105 106]\n",
      " [ 42  44  57 ... 102 106 109]]\n"
     ]
    }
   ],
   "source": [
    "#read and display image\n",
    "img = cv2.imread('lena.jpg',0)\n",
    "cv2.imshow(\"image\",img)\n",
    "print(img)\n",
    "cv2.waitKey(10000)\n",
    "cv2.destroyAllWindows()"
   ]
  },
  {
   "cell_type": "code",
   "execution_count": 4,
   "id": "1f04ec0a",
   "metadata": {},
   "outputs": [],
   "source": [
    "#video capturing in colour\n",
    "capture_video=cv2.VideoCapture(0)\n",
    "while (True):\n",
    "    ret,frame=capture_video.read(0)\n",
    "    cv2.imshow('image',frame)\n",
    "    if cv2.waitKey(1) & 0xFF ==ord('c'):\n",
    "        break\n",
    "capture_video.release()\n",
    "cv2.destroyAllWindows()"
   ]
  },
  {
   "cell_type": "code",
   "execution_count": 5,
   "id": "d4a79f66",
   "metadata": {},
   "outputs": [],
   "source": [
    "#video capturing in black and white\n",
    "capture_video=cv2.VideoCapture(0)\n",
    "while (True):\n",
    "    ret,frame=capture_video.read(0)\n",
    "    gray = cv2.cvtColor(frame,cv2.COLOR_BGR2GRAY)\n",
    "    cv2.imshow('image',gray)\n",
    "    if cv2.waitKey(1) & 0xFF ==ord('c'):\n",
    "        break\n",
    "capture_video.release()\n",
    "cv2.destroyAllWindows()"
   ]
  },
  {
   "cell_type": "code",
   "execution_count": 25,
   "id": "31c03f0e",
   "metadata": {},
   "outputs": [],
   "source": [
    "#drawing lines over a picture\n",
    "image = cv2.imread('lena.jpg',1)\n",
    "cv2.line(image,(0,0),(400,400),(255,0,0),5)\n",
    "cv2.rectangle(image,(150,150),(400,400),(0,255,0),3)\n",
    "cv2.circle(image,(200,200),100,(0,0,255),-1)\n",
    "font = cv2.FONT_HERSHEY_COMPLEX\n",
    "cv2.putText(image,\"hello\",(100,100),font,4,(10,56,167))\n",
    "cv2.imshow(\"image\",image)\n",
    "cv2.waitKey(0)\n",
    "cv2.destroyAllWindows()"
   ]
  },
  {
   "cell_type": "code",
   "execution_count": 50,
   "id": "fe79607c",
   "metadata": {},
   "outputs": [],
   "source": [
    "#task 4 circles in corner one rectangle and text in center\n",
    "image = cv2.imread('lena.jpg',1)\n",
    "cv2.rectangle(image,(150,150),(360,360),(0,255,0),3)\n",
    "cv2.circle(image,(50,50),50,(0,0,255),-1)\n",
    "cv2.circle(image,(50,460),50,(0,0,255),-1)\n",
    "cv2.circle(image,(460,50),50,(0,0,255),-1)\n",
    "cv2.circle(image,(460,460),50,(0,0,255),-1)\n",
    "cv2.line(image,(0,0),(512,512),(255,0,0),5)\n",
    "font = cv2.FONT_HERSHEY_COMPLEX\n",
    "cv2.putText(image,\"HAI\",(140,290),font,4,(0,0,0))\n",
    "cv2.imshow(\"image\",image)\n",
    "cv2.waitKey(0)\n",
    "cv2.destroyAllWindows()"
   ]
  },
  {
   "cell_type": "code",
   "execution_count": null,
   "id": "ab6df696",
   "metadata": {},
   "outputs": [],
   "source": [
    "#mouse event\n",
    "def circle_draw(event,x,y,flag,p):\n",
    "    if event ==cv2.EVENT_LBUTTONDBLCLK:\n",
    "            cv2.circle(image,(x,y),100,(255,0,0),-1)\n",
    "image = cv2.imread('lena.jpg',1)\n",
    "cv2.namedWindow(\"image\")\n",
    "cv2.setMouseCallback(\"image\",circle_draw)\n",
    "while(1):\n",
    "    cv2.imshow(\"image\",image)\n",
    "    if cv2.waitKey(20) & 0xFF ==27:\n",
    "        break\n",
    "cv2.destroyAllWindows()"
   ]
  },
  {
   "cell_type": "code",
   "execution_count": 2,
   "id": "938abb6c",
   "metadata": {},
   "outputs": [],
   "source": [
    "image=cv2.imread('blue.jpg',1)\n",
    "new_img=cv2.cvtColor(image,cv2.COLOR_BGR2HSV)\n",
    "cv2.imshow(\"hsvimage\",new_img)\n",
    "cv2.waitKey(0)\n",
    "cv2.destroyAllWindows()"
   ]
  },
  {
   "cell_type": "code",
   "execution_count": 7,
   "id": "ee37da8f",
   "metadata": {},
   "outputs": [],
   "source": [
    "image=cv2.imread('blue.jpg',1)\n",
    "#hsv\n",
    "new_img=cv2.cvtColor(image,cv2.COLOR_BGR2HSV)\n",
    "cv2.imshow(\"hsvimage\",new_img)\n",
    "#tracking blue circle\n",
    "lower_blue=np.array([110,50,50])\n",
    "upper_blue=np.array([130,252,255])\n",
    "m=cv2.inRange(new_img,lower_blue,upper_blue)\n",
    "cv2.imshow(\"mask\",m)\n",
    "#tracking blue circle in color\n",
    "col=cv2.bitwise_and(image,image,mask=m)\n",
    "cv2.imshow('colored',col)\n",
    "\n",
    "cv2.waitKey(0)\n",
    "cv2.destroyAllWindows()"
   ]
  },
  {
   "cell_type": "code",
   "execution_count": null,
   "id": "6421e58b",
   "metadata": {},
   "outputs": [],
   "source": [
    "\n",
    "capture=cv2.VideoCapture(0)\n",
    "while(1):\n",
    "    _,frame=capture.read()\n",
    "    new_img=cv2.cvtColor(frame,cv2.COLOR_BGR2HSV)\n",
    "    cv2.imshow(\"hsvimage\",new_img)\n",
    "    #tracking blue circle\n",
    "    lower_blue=np.array([110,50,50])\n",
    "    upper_blue=np.array([130,252,255])\n",
    "    m=cv2.inRange(new_img,lower_blue,upper_blue)\n",
    "    cv2.imshow(\"mask\",m)\n",
    "    #tracking blue circle in color\n",
    "    col=cv2.bitwise_and(frame,frame,mask=m)\n",
    "    cv2.imshow('colored',col)\n",
    "\n",
    "    k=cv2.waitKey(5) & 0xFF\n",
    "    if k==27:\n",
    "        break\n",
    "cv2.destroyAllWindows()"
   ]
  },
  {
   "cell_type": "code",
   "execution_count": null,
   "id": "243c3012",
   "metadata": {},
   "outputs": [],
   "source": []
  }
 ],
 "metadata": {
  "kernelspec": {
   "display_name": "Python 3",
   "language": "python",
   "name": "python3"
  },
  "language_info": {
   "codemirror_mode": {
    "name": "ipython",
    "version": 3
   },
   "file_extension": ".py",
   "mimetype": "text/x-python",
   "name": "python",
   "nbconvert_exporter": "python",
   "pygments_lexer": "ipython3",
   "version": "3.8.8"
  }
 },
 "nbformat": 4,
 "nbformat_minor": 5
}
